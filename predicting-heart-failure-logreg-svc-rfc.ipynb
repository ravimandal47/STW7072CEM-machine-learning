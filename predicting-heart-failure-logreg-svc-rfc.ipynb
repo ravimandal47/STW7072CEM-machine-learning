{
 "cells": [
  {
   "cell_type": "code",
   "execution_count": 1,
   "id": "3286ca56",
   "metadata": {
    "_cell_guid": "b1076dfc-b9ad-4769-8c92-a6c4dae69d19",
    "_uuid": "8f2839f25d086af736a60e9eeb907d3b93b6e0e5",
    "execution": {
     "iopub.execute_input": "2023-03-15T07:54:47.651627Z",
     "iopub.status.busy": "2023-03-15T07:54:47.651165Z",
     "iopub.status.idle": "2023-03-15T07:54:47.672950Z",
     "shell.execute_reply": "2023-03-15T07:54:47.671887Z"
    },
    "papermill": {
     "duration": 0.04207,
     "end_time": "2023-03-15T07:54:47.676904",
     "exception": false,
     "start_time": "2023-03-15T07:54:47.634834",
     "status": "completed"
    },
    "tags": []
   },
   "outputs": [
    {
     "name": "stdout",
     "output_type": "stream",
     "text": [
      "C:/Users/pc/Downloads/RM/Dataset\\heart_failure_clinical_records_dataset.csv\n"
     ]
    }
   ],
   "source": [
    "# This Python 3 environment comes with many helpful analytics libraries installed\n",
    "# It is defined by the kaggle/python Docker image: https://github.com/kaggle/docker-python\n",
    "# For example, here's several helpful packages to load\n",
    "\n",
    "import numpy as np # linear algebra\n",
    "import pandas as pd # data processing, CSV file I/O (e.g. pd.read_csv)\n",
    "\n",
    "# Input data files are available in the read-only \"../input/\" directory\n",
    "# For example, running this (by clicking run or pressing Shift+Enter) will list all files under the input directory\n",
    "\n",
    "import os\n",
    "for dirname, _, filenames in os.walk('C:/Users/pc/Downloads/RM/Dataset'):\n",
    "    for filename in filenames:\n",
    "        print(os.path.join(dirname, filename))\n",
    "\n",
    "# You can write up to 20GB to the current directory (/kaggle/working/) that gets preserved as output when you create a version using \"Save & Run All\" \n",
    "# You can also write temporary files to /kaggle/temp/, but they won't be saved outside of the current session"
   ]
  },
  {
   "cell_type": "markdown",
   "id": "4a3a22d7",
   "metadata": {
    "papermill": {
     "duration": 0.013515,
     "end_time": "2023-03-15T07:54:47.706323",
     "exception": false,
     "start_time": "2023-03-15T07:54:47.692808",
     "status": "completed"
    },
    "tags": []
   },
   "source": [
    "### 1. Exploratory Analysis"
   ]
  },
  {
   "cell_type": "code",
   "execution_count": 2,
   "id": "675f1fac",
   "metadata": {
    "execution": {
     "iopub.execute_input": "2023-03-15T07:54:47.733850Z",
     "iopub.status.busy": "2023-03-15T07:54:47.733033Z",
     "iopub.status.idle": "2023-03-15T07:54:49.026254Z",
     "shell.execute_reply": "2023-03-15T07:54:49.025128Z"
    },
    "papermill": {
     "duration": 1.310064,
     "end_time": "2023-03-15T07:54:49.028989",
     "exception": false,
     "start_time": "2023-03-15T07:54:47.718925",
     "status": "completed"
    },
    "tags": []
   },
   "outputs": [],
   "source": [
    "import matplotlib.pyplot as plt\n",
    "import seaborn as sb"
   ]
  },
  {
   "cell_type": "code",
   "execution_count": 3,
   "id": "6287218f",
   "metadata": {
    "execution": {
     "iopub.execute_input": "2023-03-15T07:54:49.058727Z",
     "iopub.status.busy": "2023-03-15T07:54:49.057801Z",
     "iopub.status.idle": "2023-03-15T07:54:49.062803Z",
     "shell.execute_reply": "2023-03-15T07:54:49.061912Z"
    },
    "papermill": {
     "duration": 0.022011,
     "end_time": "2023-03-15T07:54:49.065208",
     "exception": false,
     "start_time": "2023-03-15T07:54:49.043197",
     "status": "completed"
    },
    "tags": []
   },
   "outputs": [],
   "source": [
    "import warnings\n",
    "warnings.filterwarnings('ignore')"
   ]
  },
  {
   "cell_type": "code",
   "execution_count": 4,
   "id": "bdc00eb6",
   "metadata": {
    "execution": {
     "iopub.execute_input": "2023-03-15T07:54:49.094063Z",
     "iopub.status.busy": "2023-03-15T07:54:49.093292Z",
     "iopub.status.idle": "2023-03-15T07:54:49.113387Z",
     "shell.execute_reply": "2023-03-15T07:54:49.112009Z"
    },
    "papermill": {
     "duration": 0.038006,
     "end_time": "2023-03-15T07:54:49.116203",
     "exception": false,
     "start_time": "2023-03-15T07:54:49.078197",
     "status": "completed"
    },
    "tags": []
   },
   "outputs": [],
   "source": [
    "data = pd.read_csv(\"C:/Users/pc/Downloads/RM/Dataset/heart_failure_clinical_records_dataset.csv\")"
   ]
  },
  {
   "cell_type": "code",
   "execution_count": 5,
   "id": "a4f1b687",
   "metadata": {
    "execution": {
     "iopub.execute_input": "2023-03-15T07:54:49.146249Z",
     "iopub.status.busy": "2023-03-15T07:54:49.145406Z",
     "iopub.status.idle": "2023-03-15T07:54:49.176381Z",
     "shell.execute_reply": "2023-03-15T07:54:49.175150Z"
    },
    "papermill": {
     "duration": 0.049849,
     "end_time": "2023-03-15T07:54:49.178980",
     "exception": false,
     "start_time": "2023-03-15T07:54:49.129131",
     "status": "completed"
    },
    "tags": []
   },
   "outputs": [
    {
     "data": {
      "text/html": [
       "<div>\n",
       "<style scoped>\n",
       "    .dataframe tbody tr th:only-of-type {\n",
       "        vertical-align: middle;\n",
       "    }\n",
       "\n",
       "    .dataframe tbody tr th {\n",
       "        vertical-align: top;\n",
       "    }\n",
       "\n",
       "    .dataframe thead th {\n",
       "        text-align: right;\n",
       "    }\n",
       "</style>\n",
       "<table border=\"1\" class=\"dataframe\">\n",
       "  <thead>\n",
       "    <tr style=\"text-align: right;\">\n",
       "      <th></th>\n",
       "      <th>age</th>\n",
       "      <th>anaemia</th>\n",
       "      <th>creatinine_phosphokinase</th>\n",
       "      <th>diabetes</th>\n",
       "      <th>ejection_fraction</th>\n",
       "      <th>high_blood_pressure</th>\n",
       "      <th>platelets</th>\n",
       "      <th>serum_creatinine</th>\n",
       "      <th>serum_sodium</th>\n",
       "      <th>sex</th>\n",
       "      <th>smoking</th>\n",
       "      <th>time</th>\n",
       "      <th>DEATH_EVENT</th>\n",
       "    </tr>\n",
       "  </thead>\n",
       "  <tbody>\n",
       "    <tr>\n",
       "      <th>0</th>\n",
       "      <td>75.0</td>\n",
       "      <td>0</td>\n",
       "      <td>582</td>\n",
       "      <td>0</td>\n",
       "      <td>20</td>\n",
       "      <td>1</td>\n",
       "      <td>265000.00</td>\n",
       "      <td>1.9</td>\n",
       "      <td>130</td>\n",
       "      <td>1</td>\n",
       "      <td>0</td>\n",
       "      <td>4</td>\n",
       "      <td>1</td>\n",
       "    </tr>\n",
       "    <tr>\n",
       "      <th>1</th>\n",
       "      <td>55.0</td>\n",
       "      <td>0</td>\n",
       "      <td>7861</td>\n",
       "      <td>0</td>\n",
       "      <td>38</td>\n",
       "      <td>0</td>\n",
       "      <td>263358.03</td>\n",
       "      <td>1.1</td>\n",
       "      <td>136</td>\n",
       "      <td>1</td>\n",
       "      <td>0</td>\n",
       "      <td>6</td>\n",
       "      <td>1</td>\n",
       "    </tr>\n",
       "    <tr>\n",
       "      <th>2</th>\n",
       "      <td>65.0</td>\n",
       "      <td>0</td>\n",
       "      <td>146</td>\n",
       "      <td>0</td>\n",
       "      <td>20</td>\n",
       "      <td>0</td>\n",
       "      <td>162000.00</td>\n",
       "      <td>1.3</td>\n",
       "      <td>129</td>\n",
       "      <td>1</td>\n",
       "      <td>1</td>\n",
       "      <td>7</td>\n",
       "      <td>1</td>\n",
       "    </tr>\n",
       "    <tr>\n",
       "      <th>3</th>\n",
       "      <td>50.0</td>\n",
       "      <td>1</td>\n",
       "      <td>111</td>\n",
       "      <td>0</td>\n",
       "      <td>20</td>\n",
       "      <td>0</td>\n",
       "      <td>210000.00</td>\n",
       "      <td>1.9</td>\n",
       "      <td>137</td>\n",
       "      <td>1</td>\n",
       "      <td>0</td>\n",
       "      <td>7</td>\n",
       "      <td>1</td>\n",
       "    </tr>\n",
       "    <tr>\n",
       "      <th>4</th>\n",
       "      <td>65.0</td>\n",
       "      <td>1</td>\n",
       "      <td>160</td>\n",
       "      <td>1</td>\n",
       "      <td>20</td>\n",
       "      <td>0</td>\n",
       "      <td>327000.00</td>\n",
       "      <td>2.7</td>\n",
       "      <td>116</td>\n",
       "      <td>0</td>\n",
       "      <td>0</td>\n",
       "      <td>8</td>\n",
       "      <td>1</td>\n",
       "    </tr>\n",
       "  </tbody>\n",
       "</table>\n",
       "</div>"
      ],
      "text/plain": [
       "    age  anaemia  creatinine_phosphokinase  diabetes  ejection_fraction  \\\n",
       "0  75.0        0                       582         0                 20   \n",
       "1  55.0        0                      7861         0                 38   \n",
       "2  65.0        0                       146         0                 20   \n",
       "3  50.0        1                       111         0                 20   \n",
       "4  65.0        1                       160         1                 20   \n",
       "\n",
       "   high_blood_pressure  platelets  serum_creatinine  serum_sodium  sex  \\\n",
       "0                    1  265000.00               1.9           130    1   \n",
       "1                    0  263358.03               1.1           136    1   \n",
       "2                    0  162000.00               1.3           129    1   \n",
       "3                    0  210000.00               1.9           137    1   \n",
       "4                    0  327000.00               2.7           116    0   \n",
       "\n",
       "   smoking  time  DEATH_EVENT  \n",
       "0        0     4            1  \n",
       "1        0     6            1  \n",
       "2        1     7            1  \n",
       "3        0     7            1  \n",
       "4        0     8            1  "
      ]
     },
     "execution_count": 5,
     "metadata": {},
     "output_type": "execute_result"
    }
   ],
   "source": [
    "data.head()"
   ]
  },
  {
   "cell_type": "code",
   "execution_count": 6,
   "id": "d1201538",
   "metadata": {
    "execution": {
     "iopub.execute_input": "2023-03-15T07:54:49.207386Z",
     "iopub.status.busy": "2023-03-15T07:54:49.206954Z",
     "iopub.status.idle": "2023-03-15T07:54:49.214565Z",
     "shell.execute_reply": "2023-03-15T07:54:49.213352Z"
    },
    "papermill": {
     "duration": 0.024723,
     "end_time": "2023-03-15T07:54:49.217000",
     "exception": false,
     "start_time": "2023-03-15T07:54:49.192277",
     "status": "completed"
    },
    "tags": []
   },
   "outputs": [
    {
     "data": {
      "text/plain": [
       "(299, 13)"
      ]
     },
     "execution_count": 6,
     "metadata": {},
     "output_type": "execute_result"
    }
   ],
   "source": [
    "data.shape"
   ]
  },
  {
   "cell_type": "markdown",
   "id": "1dd6f5c3",
   "metadata": {
    "papermill": {
     "duration": 0.013585,
     "end_time": "2023-03-15T07:54:49.243732",
     "exception": false,
     "start_time": "2023-03-15T07:54:49.230147",
     "status": "completed"
    },
    "tags": []
   },
   "source": [
    "* **We have 299 cases with 13 feature to discover**  "
   ]
  },
  {
   "cell_type": "code",
   "execution_count": 7,
   "id": "52794d90",
   "metadata": {
    "execution": {
     "iopub.execute_input": "2023-03-15T07:54:49.271656Z",
     "iopub.status.busy": "2023-03-15T07:54:49.270917Z",
     "iopub.status.idle": "2023-03-15T07:54:49.296990Z",
     "shell.execute_reply": "2023-03-15T07:54:49.295081Z"
    },
    "papermill": {
     "duration": 0.043062,
     "end_time": "2023-03-15T07:54:49.299727",
     "exception": false,
     "start_time": "2023-03-15T07:54:49.256665",
     "status": "completed"
    },
    "tags": []
   },
   "outputs": [
    {
     "name": "stdout",
     "output_type": "stream",
     "text": [
      "<class 'pandas.core.frame.DataFrame'>\n",
      "RangeIndex: 299 entries, 0 to 298\n",
      "Data columns (total 13 columns):\n",
      " #   Column                    Non-Null Count  Dtype  \n",
      "---  ------                    --------------  -----  \n",
      " 0   age                       299 non-null    float64\n",
      " 1   anaemia                   299 non-null    int64  \n",
      " 2   creatinine_phosphokinase  299 non-null    int64  \n",
      " 3   diabetes                  299 non-null    int64  \n",
      " 4   ejection_fraction         299 non-null    int64  \n",
      " 5   high_blood_pressure       299 non-null    int64  \n",
      " 6   platelets                 299 non-null    float64\n",
      " 7   serum_creatinine          299 non-null    float64\n",
      " 8   serum_sodium              299 non-null    int64  \n",
      " 9   sex                       299 non-null    int64  \n",
      " 10  smoking                   299 non-null    int64  \n",
      " 11  time                      299 non-null    int64  \n",
      " 12  DEATH_EVENT               299 non-null    int64  \n",
      "dtypes: float64(3), int64(10)\n",
      "memory usage: 30.5 KB\n"
     ]
    }
   ],
   "source": [
    "data.info()"
   ]
  },
  {
   "cell_type": "markdown",
   "id": "55e354c1",
   "metadata": {
    "papermill": {
     "duration": 0.012429,
     "end_time": "2023-03-15T07:54:49.327266",
     "exception": false,
     "start_time": "2023-03-15T07:54:49.314837",
     "status": "completed"
    },
    "tags": []
   },
   "source": [
    "* **All of our features are numerical including target feature**"
   ]
  },
  {
   "cell_type": "code",
   "execution_count": 57,
   "id": "743b4900",
   "metadata": {
    "execution": {
     "iopub.execute_input": "2023-03-15T07:54:49.356151Z",
     "iopub.status.busy": "2023-03-15T07:54:49.354969Z",
     "iopub.status.idle": "2023-03-15T07:54:49.365127Z",
     "shell.execute_reply": "2023-03-15T07:54:49.363946Z"
    },
    "papermill": {
     "duration": 0.027758,
     "end_time": "2023-03-15T07:54:49.367972",
     "exception": false,
     "start_time": "2023-03-15T07:54:49.340214",
     "status": "completed"
    },
    "tags": []
   },
   "outputs": [
    {
     "data": {
      "text/plain": [
       "age                         0\n",
       "anaemia                     0\n",
       "creatinine_phosphokinase    0\n",
       "diabetes                    0\n",
       "ejection_fraction           0\n",
       "high_blood_pressure         0\n",
       "platelets                   0\n",
       "serum_creatinine            0\n",
       "serum_sodium                0\n",
       "sex                         0\n",
       "smoking                     0\n",
       "time                        0\n",
       "DEATH_EVENT                 0\n",
       "dtype: int64"
      ]
     },
     "execution_count": 57,
     "metadata": {},
     "output_type": "execute_result"
    }
   ],
   "source": [
    "data.isnull().sum().sort_values(ascending = False)"
   ]
  },
  {
   "cell_type": "markdown",
   "id": "8d289b67",
   "metadata": {
    "papermill": {
     "duration": 0.012641,
     "end_time": "2023-03-15T07:54:49.394050",
     "exception": false,
     "start_time": "2023-03-15T07:54:49.381409",
     "status": "completed"
    },
    "tags": []
   },
   "source": [
    "* **We have 0 missing values**"
   ]
  },
  {
   "cell_type": "code",
   "execution_count": 9,
   "id": "1df67592",
   "metadata": {
    "execution": {
     "iopub.execute_input": "2023-03-15T07:54:49.423012Z",
     "iopub.status.busy": "2023-03-15T07:54:49.422604Z",
     "iopub.status.idle": "2023-03-15T07:54:49.477429Z",
     "shell.execute_reply": "2023-03-15T07:54:49.475916Z"
    },
    "papermill": {
     "duration": 0.072994,
     "end_time": "2023-03-15T07:54:49.480477",
     "exception": false,
     "start_time": "2023-03-15T07:54:49.407483",
     "status": "completed"
    },
    "tags": []
   },
   "outputs": [
    {
     "data": {
      "text/html": [
       "<div>\n",
       "<style scoped>\n",
       "    .dataframe tbody tr th:only-of-type {\n",
       "        vertical-align: middle;\n",
       "    }\n",
       "\n",
       "    .dataframe tbody tr th {\n",
       "        vertical-align: top;\n",
       "    }\n",
       "\n",
       "    .dataframe thead th {\n",
       "        text-align: right;\n",
       "    }\n",
       "</style>\n",
       "<table border=\"1\" class=\"dataframe\">\n",
       "  <thead>\n",
       "    <tr style=\"text-align: right;\">\n",
       "      <th></th>\n",
       "      <th>age</th>\n",
       "      <th>anaemia</th>\n",
       "      <th>creatinine_phosphokinase</th>\n",
       "      <th>diabetes</th>\n",
       "      <th>ejection_fraction</th>\n",
       "      <th>high_blood_pressure</th>\n",
       "      <th>platelets</th>\n",
       "      <th>serum_creatinine</th>\n",
       "      <th>serum_sodium</th>\n",
       "      <th>sex</th>\n",
       "      <th>smoking</th>\n",
       "      <th>time</th>\n",
       "      <th>DEATH_EVENT</th>\n",
       "    </tr>\n",
       "  </thead>\n",
       "  <tbody>\n",
       "    <tr>\n",
       "      <th>count</th>\n",
       "      <td>299.000000</td>\n",
       "      <td>299.000000</td>\n",
       "      <td>299.000000</td>\n",
       "      <td>299.000000</td>\n",
       "      <td>299.000000</td>\n",
       "      <td>299.000000</td>\n",
       "      <td>299.000000</td>\n",
       "      <td>299.00000</td>\n",
       "      <td>299.000000</td>\n",
       "      <td>299.000000</td>\n",
       "      <td>299.00000</td>\n",
       "      <td>299.000000</td>\n",
       "      <td>299.00000</td>\n",
       "    </tr>\n",
       "    <tr>\n",
       "      <th>mean</th>\n",
       "      <td>60.833893</td>\n",
       "      <td>0.431438</td>\n",
       "      <td>581.839465</td>\n",
       "      <td>0.418060</td>\n",
       "      <td>38.083612</td>\n",
       "      <td>0.351171</td>\n",
       "      <td>263358.029264</td>\n",
       "      <td>1.39388</td>\n",
       "      <td>136.625418</td>\n",
       "      <td>0.648829</td>\n",
       "      <td>0.32107</td>\n",
       "      <td>130.260870</td>\n",
       "      <td>0.32107</td>\n",
       "    </tr>\n",
       "    <tr>\n",
       "      <th>std</th>\n",
       "      <td>11.894809</td>\n",
       "      <td>0.496107</td>\n",
       "      <td>970.287881</td>\n",
       "      <td>0.494067</td>\n",
       "      <td>11.834841</td>\n",
       "      <td>0.478136</td>\n",
       "      <td>97804.236869</td>\n",
       "      <td>1.03451</td>\n",
       "      <td>4.412477</td>\n",
       "      <td>0.478136</td>\n",
       "      <td>0.46767</td>\n",
       "      <td>77.614208</td>\n",
       "      <td>0.46767</td>\n",
       "    </tr>\n",
       "    <tr>\n",
       "      <th>min</th>\n",
       "      <td>40.000000</td>\n",
       "      <td>0.000000</td>\n",
       "      <td>23.000000</td>\n",
       "      <td>0.000000</td>\n",
       "      <td>14.000000</td>\n",
       "      <td>0.000000</td>\n",
       "      <td>25100.000000</td>\n",
       "      <td>0.50000</td>\n",
       "      <td>113.000000</td>\n",
       "      <td>0.000000</td>\n",
       "      <td>0.00000</td>\n",
       "      <td>4.000000</td>\n",
       "      <td>0.00000</td>\n",
       "    </tr>\n",
       "    <tr>\n",
       "      <th>25%</th>\n",
       "      <td>51.000000</td>\n",
       "      <td>0.000000</td>\n",
       "      <td>116.500000</td>\n",
       "      <td>0.000000</td>\n",
       "      <td>30.000000</td>\n",
       "      <td>0.000000</td>\n",
       "      <td>212500.000000</td>\n",
       "      <td>0.90000</td>\n",
       "      <td>134.000000</td>\n",
       "      <td>0.000000</td>\n",
       "      <td>0.00000</td>\n",
       "      <td>73.000000</td>\n",
       "      <td>0.00000</td>\n",
       "    </tr>\n",
       "    <tr>\n",
       "      <th>50%</th>\n",
       "      <td>60.000000</td>\n",
       "      <td>0.000000</td>\n",
       "      <td>250.000000</td>\n",
       "      <td>0.000000</td>\n",
       "      <td>38.000000</td>\n",
       "      <td>0.000000</td>\n",
       "      <td>262000.000000</td>\n",
       "      <td>1.10000</td>\n",
       "      <td>137.000000</td>\n",
       "      <td>1.000000</td>\n",
       "      <td>0.00000</td>\n",
       "      <td>115.000000</td>\n",
       "      <td>0.00000</td>\n",
       "    </tr>\n",
       "    <tr>\n",
       "      <th>75%</th>\n",
       "      <td>70.000000</td>\n",
       "      <td>1.000000</td>\n",
       "      <td>582.000000</td>\n",
       "      <td>1.000000</td>\n",
       "      <td>45.000000</td>\n",
       "      <td>1.000000</td>\n",
       "      <td>303500.000000</td>\n",
       "      <td>1.40000</td>\n",
       "      <td>140.000000</td>\n",
       "      <td>1.000000</td>\n",
       "      <td>1.00000</td>\n",
       "      <td>203.000000</td>\n",
       "      <td>1.00000</td>\n",
       "    </tr>\n",
       "    <tr>\n",
       "      <th>max</th>\n",
       "      <td>95.000000</td>\n",
       "      <td>1.000000</td>\n",
       "      <td>7861.000000</td>\n",
       "      <td>1.000000</td>\n",
       "      <td>80.000000</td>\n",
       "      <td>1.000000</td>\n",
       "      <td>850000.000000</td>\n",
       "      <td>9.40000</td>\n",
       "      <td>148.000000</td>\n",
       "      <td>1.000000</td>\n",
       "      <td>1.00000</td>\n",
       "      <td>285.000000</td>\n",
       "      <td>1.00000</td>\n",
       "    </tr>\n",
       "  </tbody>\n",
       "</table>\n",
       "</div>"
      ],
      "text/plain": [
       "              age     anaemia  creatinine_phosphokinase    diabetes  \\\n",
       "count  299.000000  299.000000                299.000000  299.000000   \n",
       "mean    60.833893    0.431438                581.839465    0.418060   \n",
       "std     11.894809    0.496107                970.287881    0.494067   \n",
       "min     40.000000    0.000000                 23.000000    0.000000   \n",
       "25%     51.000000    0.000000                116.500000    0.000000   \n",
       "50%     60.000000    0.000000                250.000000    0.000000   \n",
       "75%     70.000000    1.000000                582.000000    1.000000   \n",
       "max     95.000000    1.000000               7861.000000    1.000000   \n",
       "\n",
       "       ejection_fraction  high_blood_pressure      platelets  \\\n",
       "count         299.000000           299.000000     299.000000   \n",
       "mean           38.083612             0.351171  263358.029264   \n",
       "std            11.834841             0.478136   97804.236869   \n",
       "min            14.000000             0.000000   25100.000000   \n",
       "25%            30.000000             0.000000  212500.000000   \n",
       "50%            38.000000             0.000000  262000.000000   \n",
       "75%            45.000000             1.000000  303500.000000   \n",
       "max            80.000000             1.000000  850000.000000   \n",
       "\n",
       "       serum_creatinine  serum_sodium         sex    smoking        time  \\\n",
       "count         299.00000    299.000000  299.000000  299.00000  299.000000   \n",
       "mean            1.39388    136.625418    0.648829    0.32107  130.260870   \n",
       "std             1.03451      4.412477    0.478136    0.46767   77.614208   \n",
       "min             0.50000    113.000000    0.000000    0.00000    4.000000   \n",
       "25%             0.90000    134.000000    0.000000    0.00000   73.000000   \n",
       "50%             1.10000    137.000000    1.000000    0.00000  115.000000   \n",
       "75%             1.40000    140.000000    1.000000    1.00000  203.000000   \n",
       "max             9.40000    148.000000    1.000000    1.00000  285.000000   \n",
       "\n",
       "       DEATH_EVENT  \n",
       "count    299.00000  \n",
       "mean       0.32107  \n",
       "std        0.46767  \n",
       "min        0.00000  \n",
       "25%        0.00000  \n",
       "50%        0.00000  \n",
       "75%        1.00000  \n",
       "max        1.00000  "
      ]
     },
     "execution_count": 9,
     "metadata": {},
     "output_type": "execute_result"
    }
   ],
   "source": [
    "data.describe()"
   ]
  },
  {
   "cell_type": "code",
   "execution_count": 51,
   "id": "8619cbcc",
   "metadata": {},
   "outputs": [
    {
     "data": {
      "image/png": "[encoded data removed]",
      "text/plain": [
       "<Figure size 1200x1000 with 2 Axes>"
      ]
     },
     "metadata": {},
     "output_type": "display_data"
    }
   ],
   "source": [
    "import seaborn as sns\n",
    "import matplotlib.pyplot as plt\n",
    "\n",
    "# Load the DataFrame\n",
    "df = pd.read_csv(\"C:/Users/pc/Downloads/RM/Dataset/heart_failure_clinical_records_dataset.csv\")\n",
    "\n",
    "# Create the correlation matrix\n",
    "corr_matrix = df.corr()\n",
    "\n",
    "# Generate the heatmap\n",
    "plt.figure(figsize=(12, 10))\n",
    "sns.heatmap(corr_matrix, annot=True, cmap='coolwarm')\n",
    "plt.title('Correlation Heatmap')\n",
    "plt.show()\n"
   ]
  },
  {
   "cell_type": "code",
   "execution_count": 10,
   "id": "f20af76f",
   "metadata": {
    "execution": {
     "iopub.execute_input": "2023-03-15T07:54:49.511307Z",
     "iopub.status.busy": "2023-03-15T07:54:49.510031Z",
     "iopub.status.idle": "2023-03-15T07:54:49.519855Z",
     "shell.execute_reply": "2023-03-15T07:54:49.518596Z"
    },
    "papermill": {
     "duration": 0.027872,
     "end_time": "2023-03-15T07:54:49.522384",
     "exception": false,
     "start_time": "2023-03-15T07:54:49.494512",
     "status": "completed"
    },
    "tags": []
   },
   "outputs": [
    {
     "data": {
      "text/plain": [
       "0    203\n",
       "1     96\n",
       "Name: DEATH_EVENT, dtype: int64"
      ]
     },
     "execution_count": 10,
     "metadata": {},
     "output_type": "execute_result"
    }
   ],
   "source": [
    "data['DEATH_EVENT'].value_counts()"
   ]
  },
  {
   "cell_type": "markdown",
   "id": "08dac523",
   "metadata": {
    "papermill": {
     "duration": 0.013519,
     "end_time": "2023-03-15T07:54:49.549361",
     "exception": false,
     "start_time": "2023-03-15T07:54:49.535842",
     "status": "completed"
    },
    "tags": []
   },
   "source": [
    "#### NOTE: Imbalanced Dataset SO\n",
    "* We undersample or we use other metrics rather than accuracy"
   ]
  },
  {
   "cell_type": "code",
   "execution_count": 11,
   "id": "94cf8b1f",
   "metadata": {
    "execution": {
     "iopub.execute_input": "2023-03-15T07:54:49.578645Z",
     "iopub.status.busy": "2023-03-15T07:54:49.578199Z",
     "iopub.status.idle": "2023-03-15T07:54:49.592663Z",
     "shell.execute_reply": "2023-03-15T07:54:49.591105Z"
    },
    "papermill": {
     "duration": 0.032543,
     "end_time": "2023-03-15T07:54:49.595340",
     "exception": false,
     "start_time": "2023-03-15T07:54:49.562797",
     "status": "completed"
    },
    "tags": []
   },
   "outputs": [
    {
     "data": {
      "text/plain": [
       "high_blood_pressure  sex\n",
       "0                    0       61\n",
       "                     1      133\n",
       "1                    0       44\n",
       "                     1       61\n",
       "Name: DEATH_EVENT, dtype: int64"
      ]
     },
     "execution_count": 11,
     "metadata": {},
     "output_type": "execute_result"
    }
   ],
   "source": [
    "data.groupby([\"high_blood_pressure\",'sex']).count()['DEATH_EVENT']"
   ]
  },
  {
   "cell_type": "code",
   "execution_count": 56,
   "id": "0b941c17",
   "metadata": {},
   "outputs": [
    {
     "data": {
      "image/png": "[encoded data removed]",
      "text/plain": [
       "<Figure size 640x480 with 1 Axes>"
      ]
     },
     "metadata": {},
     "output_type": "display_data"
    }
   ],
   "source": [
    "import matplotlib.pyplot as plt\n",
    "\n",
    "# group the data by high_blood_pressure and sex and count the number of occurrences of DEATH_EVENT for each group\n",
    "death_counts = data.groupby(['high_blood_pressure', 'sex'])['DEATH_EVENT'].count().unstack()\n",
    "\n",
    "# plot the stacked bar chart\n",
    "death_counts.plot(kind='bar', stacked=True)\n",
    "\n",
    "# set the title and axis labels\n",
    "plt.title('Number of Deaths by High Blood Pressure and Sex')\n",
    "plt.xlabel('High Blood Pressure and Sex')\n",
    "plt.ylabel('Number of Deaths')\n",
    "\n",
    "# show the plot\n",
    "plt.show()\n"
   ]
  },
  {
   "cell_type": "markdown",
   "id": "76b8605c",
   "metadata": {
    "papermill": {
     "duration": 0.013404,
     "end_time": "2023-03-15T07:54:49.622831",
     "exception": false,
     "start_time": "2023-03-15T07:54:49.609427",
     "status": "completed"
    },
    "tags": []
   },
   "source": [
    "### 2. Models Evaluation\n"
   ]
  },
  {
   "cell_type": "code",
   "execution_count": 12,
   "id": "06763059",
   "metadata": {
    "execution": {
     "iopub.execute_input": "2023-03-15T07:54:49.653409Z",
     "iopub.status.busy": "2023-03-15T07:54:49.653022Z",
     "iopub.status.idle": "2023-03-15T07:54:49.888570Z",
     "shell.execute_reply": "2023-03-15T07:54:49.887414Z"
    },
    "papermill": {
     "duration": 0.254867,
     "end_time": "2023-03-15T07:54:49.891528",
     "exception": false,
     "start_time": "2023-03-15T07:54:49.636661",
     "status": "completed"
    },
    "tags": []
   },
   "outputs": [],
   "source": [
    "from sklearn.model_selection import train_test_split\n",
    "X = data.drop('DEATH_EVENT' , axis = 1)\n",
    "y = data.DEATH_EVENT"
   ]
  },
  {
   "cell_type": "code",
   "execution_count": 13,
   "id": "80cce36e",
   "metadata": {
    "execution": {
     "iopub.execute_input": "2023-03-15T07:54:49.921396Z",
     "iopub.status.busy": "2023-03-15T07:54:49.920992Z",
     "iopub.status.idle": "2023-03-15T07:54:50.549859Z",
     "shell.execute_reply": "2023-03-15T07:54:50.548508Z"
    },
    "papermill": {
     "duration": 0.647758,
     "end_time": "2023-03-15T07:54:50.553012",
     "exception": false,
     "start_time": "2023-03-15T07:54:49.905254",
     "status": "completed"
    },
    "tags": []
   },
   "outputs": [],
   "source": [
    "from imblearn.over_sampling import SMOTE\n",
    "sm=SMOTE()\n",
    "X,y=sm.fit_resample(X,y)"
   ]
  },
  {
   "cell_type": "code",
   "execution_count": 14,
   "id": "f39b55be",
   "metadata": {
    "execution": {
     "iopub.execute_input": "2023-03-15T07:54:50.583725Z",
     "iopub.status.busy": "2023-03-15T07:54:50.583143Z",
     "iopub.status.idle": "2023-03-15T07:54:50.593188Z",
     "shell.execute_reply": "2023-03-15T07:54:50.591944Z"
    },
    "papermill": {
     "duration": 0.028921,
     "end_time": "2023-03-15T07:54:50.595999",
     "exception": false,
     "start_time": "2023-03-15T07:54:50.567078",
     "status": "completed"
    },
    "tags": []
   },
   "outputs": [],
   "source": [
    "x_train , x_test , y_train , y_test = train_test_split(X , y , test_size = 0.25 , random_state = 42 , shuffle = True)"
   ]
  },
  {
   "cell_type": "code",
   "execution_count": 15,
   "id": "b7257fcc",
   "metadata": {
    "execution": {
     "iopub.execute_input": "2023-03-15T07:54:50.626263Z",
     "iopub.status.busy": "2023-03-15T07:54:50.625587Z",
     "iopub.status.idle": "2023-03-15T07:54:50.630508Z",
     "shell.execute_reply": "2023-03-15T07:54:50.629604Z"
    },
    "papermill": {
     "duration": 0.022706,
     "end_time": "2023-03-15T07:54:50.632888",
     "exception": false,
     "start_time": "2023-03-15T07:54:50.610182",
     "status": "completed"
    },
    "tags": []
   },
   "outputs": [],
   "source": [
    "##from sklearn.preprocessing import StandardScaler\n",
    "##scale = StandardScaler()\n",
    "\n",
    "#x_train_scaled = scale.fit_transform(x_train , y_train)\n",
    "#x_test_scaled = scale.fit_transform(x_test , y_test)"
   ]
  },
  {
   "cell_type": "code",
   "execution_count": 16,
   "id": "55a98658",
   "metadata": {
    "execution": {
     "iopub.execute_input": "2023-03-15T07:54:50.662579Z",
     "iopub.status.busy": "2023-03-15T07:54:50.662137Z",
     "iopub.status.idle": "2023-03-15T07:54:50.667714Z",
     "shell.execute_reply": "2023-03-15T07:54:50.666459Z"
    },
    "papermill": {
     "duration": 0.023666,
     "end_time": "2023-03-15T07:54:50.670105",
     "exception": false,
     "start_time": "2023-03-15T07:54:50.646439",
     "status": "completed"
    },
    "tags": []
   },
   "outputs": [],
   "source": [
    "from sklearn.svm import SVC\n",
    "from sklearn.ensemble import RandomForestClassifier\n",
    "from sklearn.linear_model import LogisticRegression\n",
    "from sklearn.model_selection import GridSearchCV , cross_val_score , KFold"
   ]
  },
  {
   "cell_type": "code",
   "execution_count": 17,
   "id": "170d3436",
   "metadata": {
    "execution": {
     "iopub.execute_input": "2023-03-15T07:54:50.700599Z",
     "iopub.status.busy": "2023-03-15T07:54:50.699872Z",
     "iopub.status.idle": "2023-03-15T07:54:50.705607Z",
     "shell.execute_reply": "2023-03-15T07:54:50.704631Z"
    },
    "papermill": {
     "duration": 0.024492,
     "end_time": "2023-03-15T07:54:50.708180",
     "exception": false,
     "start_time": "2023-03-15T07:54:50.683688",
     "status": "completed"
    },
    "tags": []
   },
   "outputs": [],
   "source": [
    "def evaluate_model(model, X, y):\n",
    "    cv = KFold(n_splits=5, random_state=42 , shuffle = True)\n",
    "    scores = cross_val_score(model, X, y, scoring='accuracy', cv=cv)\n",
    "    return scores"
   ]
  },
  {
   "cell_type": "code",
   "execution_count": 18,
   "id": "3f3de16d",
   "metadata": {
    "execution": {
     "iopub.execute_input": "2023-03-15T07:54:50.738257Z",
     "iopub.status.busy": "2023-03-15T07:54:50.737527Z",
     "iopub.status.idle": "2023-03-15T07:54:50.847738Z",
     "shell.execute_reply": "2023-03-15T07:54:50.845795Z"
    },
    "papermill": {
     "duration": 0.128898,
     "end_time": "2023-03-15T07:54:50.850845",
     "exception": false,
     "start_time": "2023-03-15T07:54:50.721947",
     "status": "completed"
    },
    "tags": []
   },
   "outputs": [
    {
     "name": "stdout",
     "output_type": "stream",
     "text": [
      "Range of SVC possible model accuracies: [0.43 0.52 0.44 0.44 0.52] with a mean of 0.47\n"
     ]
    }
   ],
   "source": [
    "print(f\"Range of SVC possible model accuracies: {evaluate_model(SVC() , x_train , y_train).round(2)} with a mean of {evaluate_model(SVC() , x_train , y_train).mean().round(2)}\")\n"
   ]
  },
  {
   "cell_type": "code",
   "execution_count": 19,
   "id": "3b5329ca",
   "metadata": {
    "execution": {
     "iopub.execute_input": "2023-03-15T07:54:50.881072Z",
     "iopub.status.busy": "2023-03-15T07:54:50.880614Z",
     "iopub.status.idle": "2023-03-15T07:54:51.165395Z",
     "shell.execute_reply": "2023-03-15T07:54:51.163387Z"
    },
    "papermill": {
     "duration": 0.304169,
     "end_time": "2023-03-15T07:54:51.169213",
     "exception": false,
     "start_time": "2023-03-15T07:54:50.865044",
     "status": "completed"
    },
    "tags": []
   },
   "outputs": [
    {
     "name": "stdout",
     "output_type": "stream",
     "text": [
      "Range of LogisticRegression possible model accuracies: [0.8  0.75 0.8  0.7  0.73] with a mean of 0.76\n"
     ]
    }
   ],
   "source": [
    "print(f\"Range of LogisticRegression possible model accuracies: {evaluate_model(LogisticRegression() , x_train , y_train).round(2)} with a mean of {evaluate_model(LogisticRegression() , x_train , y_train).mean().round(2)}\")\n"
   ]
  },
  {
   "cell_type": "code",
   "execution_count": 20,
   "id": "f55f5da6",
   "metadata": {
    "execution": {
     "iopub.execute_input": "2023-03-15T07:54:51.199682Z",
     "iopub.status.busy": "2023-03-15T07:54:51.198434Z",
     "iopub.status.idle": "2023-03-15T07:54:52.982174Z",
     "shell.execute_reply": "2023-03-15T07:54:52.980086Z"
    },
    "papermill": {
     "duration": 1.802921,
     "end_time": "2023-03-15T07:54:52.986242",
     "exception": false,
     "start_time": "2023-03-15T07:54:51.183321",
     "status": "completed"
    },
    "tags": []
   },
   "outputs": [
    {
     "name": "stdout",
     "output_type": "stream",
     "text": [
      "Range of RandomForestClassifier possible model accuracies: [0.85 0.89 0.93 0.89 0.88] with a mean of 0.88\n"
     ]
    }
   ],
   "source": [
    "print(f\"Range of RandomForestClassifier possible model accuracies: {evaluate_model(RandomForestClassifier() , x_train , y_train).round(2)} with a mean of {evaluate_model(RandomForestClassifier() , x_train , y_train).mean().round(2)}\")\n"
   ]
  },
  {
   "cell_type": "code",
   "execution_count": 58,
   "id": "ea9238c1",
   "metadata": {},
   "outputs": [
    {
     "name": "stdout",
     "output_type": "stream",
     "text": [
      "Model                     Mean Accuracy    Min Accuracy    Max Accuracy\n",
      "----------------------  ---------------  --------------  --------------\n",
      "SVC                                0.47            0.43            0.52\n",
      "LogisticRegression                 0.76            0.7             0.8\n",
      "RandomForestClassifier             0.88            0.82            0.95\n"
     ]
    }
   ],
   "source": [
    "from tabulate import tabulate\n",
    "\n",
    "svc_accs = evaluate_model(SVC(), x_train, y_train)\n",
    "logreg_accs = evaluate_model(LogisticRegression(), x_train, y_train)\n",
    "rf_accs = evaluate_model(RandomForestClassifier(), x_train, y_train)\n",
    "\n",
    "table = [\n",
    "    ['SVC', svc_accs.mean().round(2), svc_accs.min().round(2), svc_accs.max().round(2)],\n",
    "    ['LogisticRegression', logreg_accs.mean().round(2), logreg_accs.min().round(2), logreg_accs.max().round(2)],\n",
    "    ['RandomForestClassifier', rf_accs.mean().round(2), rf_accs.min().round(2), rf_accs.max().round(2)]\n",
    "]\n",
    "\n",
    "headers = ['Model', 'Mean Accuracy', 'Min Accuracy', 'Max Accuracy']\n",
    "\n",
    "print(tabulate(table, headers=headers))\n"
   ]
  },
  {
   "cell_type": "markdown",
   "id": "eef007f3",
   "metadata": {
    "papermill": {
     "duration": 0.013974,
     "end_time": "2023-03-15T07:54:53.014326",
     "exception": false,
     "start_time": "2023-03-15T07:54:53.000352",
     "status": "completed"
    },
    "tags": []
   },
   "source": [
    "* **Glimpse of what each model is capable of** "
   ]
  },
  {
   "cell_type": "code",
   "execution_count": 21,
   "id": "92400d9a",
   "metadata": {
    "execution": {
     "iopub.execute_input": "2023-03-15T07:54:53.043643Z",
     "iopub.status.busy": "2023-03-15T07:54:53.043236Z",
     "iopub.status.idle": "2023-03-15T07:54:53.048593Z",
     "shell.execute_reply": "2023-03-15T07:54:53.047581Z"
    },
    "papermill": {
     "duration": 0.022903,
     "end_time": "2023-03-15T07:54:53.051025",
     "exception": false,
     "start_time": "2023-03-15T07:54:53.028122",
     "status": "completed"
    },
    "tags": []
   },
   "outputs": [],
   "source": [
    "svc_params = [{'gamma': [0.001 , 0.01 , 0.1 , 1 , 10 , 100],   'C' : [0.001 , 0.01 , 0.1 , 1 , 10 , 100] }]"
   ]
  },
  {
   "cell_type": "code",
   "execution_count": 22,
   "id": "7303312b",
   "metadata": {
    "execution": {
     "iopub.execute_input": "2023-03-15T07:54:53.080763Z",
     "iopub.status.busy": "2023-03-15T07:54:53.079949Z",
     "iopub.status.idle": "2023-03-15T07:54:53.085072Z",
     "shell.execute_reply": "2023-03-15T07:54:53.083870Z"
    },
    "papermill": {
     "duration": 0.023146,
     "end_time": "2023-03-15T07:54:53.087865",
     "exception": false,
     "start_time": "2023-03-15T07:54:53.064719",
     "status": "completed"
    },
    "tags": []
   },
   "outputs": [],
   "source": [
    "log_parmas =  [{'C' : [0.001 , 0.01 , 0.1 , 1 , 10 , 100]}]"
   ]
  },
  {
   "cell_type": "code",
   "execution_count": 23,
   "id": "a0f682ae",
   "metadata": {
    "execution": {
     "iopub.execute_input": "2023-03-15T07:54:53.118545Z",
     "iopub.status.busy": "2023-03-15T07:54:53.118114Z",
     "iopub.status.idle": "2023-03-15T07:54:53.123574Z",
     "shell.execute_reply": "2023-03-15T07:54:53.122391Z"
    },
    "papermill": {
     "duration": 0.023422,
     "end_time": "2023-03-15T07:54:53.125916",
     "exception": false,
     "start_time": "2023-03-15T07:54:53.102494",
     "status": "completed"
    },
    "tags": []
   },
   "outputs": [],
   "source": [
    "rfc_params = { \"max_depth\" : [4,5,6,7,8],'criterion' :['gini', 'entropy']}"
   ]
  },
  {
   "cell_type": "code",
   "execution_count": 24,
   "id": "2049c13a",
   "metadata": {
    "execution": {
     "iopub.execute_input": "2023-03-15T07:54:53.157223Z",
     "iopub.status.busy": "2023-03-15T07:54:53.155682Z",
     "iopub.status.idle": "2023-03-15T07:54:53.162679Z",
     "shell.execute_reply": "2023-03-15T07:54:53.161671Z"
    },
    "papermill": {
     "duration": 0.025877,
     "end_time": "2023-03-15T07:54:53.165586",
     "exception": false,
     "start_time": "2023-03-15T07:54:53.139709",
     "status": "completed"
    },
    "tags": []
   },
   "outputs": [],
   "source": [
    "def search_grid(model , X , y , param):\n",
    "    gsvc = GridSearchCV(model , param ,cv = 5)\n",
    "    return gsvc.fit(X,y)"
   ]
  },
  {
   "cell_type": "code",
   "execution_count": 25,
   "id": "9f0cf53e",
   "metadata": {
    "execution": {
     "iopub.execute_input": "2023-03-15T07:54:53.196837Z",
     "iopub.status.busy": "2023-03-15T07:54:53.195415Z",
     "iopub.status.idle": "2023-03-15T07:54:55.059075Z",
     "shell.execute_reply": "2023-03-15T07:54:55.057568Z"
    },
    "papermill": {
     "duration": 1.8825,
     "end_time": "2023-03-15T07:54:55.062075",
     "exception": false,
     "start_time": "2023-03-15T07:54:53.179575",
     "status": "completed"
    },
    "tags": []
   },
   "outputs": [],
   "source": [
    "svc_grid = search_grid(SVC() , x_train , y_train , svc_params)"
   ]
  },
  {
   "cell_type": "code",
   "execution_count": 26,
   "id": "7d80844e",
   "metadata": {
    "execution": {
     "iopub.execute_input": "2023-03-15T07:54:55.092845Z",
     "iopub.status.busy": "2023-03-15T07:54:55.092405Z",
     "iopub.status.idle": "2023-03-15T07:54:55.112839Z",
     "shell.execute_reply": "2023-03-15T07:54:55.111358Z"
    },
    "papermill": {
     "duration": 0.039108,
     "end_time": "2023-03-15T07:54:55.115578",
     "exception": false,
     "start_time": "2023-03-15T07:54:55.076470",
     "status": "completed"
    },
    "tags": []
   },
   "outputs": [
    {
     "data": {
      "text/html": [
       "<div>\n",
       "<style scoped>\n",
       "    .dataframe tbody tr th:only-of-type {\n",
       "        vertical-align: middle;\n",
       "    }\n",
       "\n",
       "    .dataframe tbody tr th {\n",
       "        vertical-align: top;\n",
       "    }\n",
       "\n",
       "    .dataframe thead th {\n",
       "        text-align: right;\n",
       "    }\n",
       "</style>\n",
       "<table border=\"1\" class=\"dataframe\">\n",
       "  <thead>\n",
       "    <tr style=\"text-align: right;\">\n",
       "      <th></th>\n",
       "      <th>param_C</th>\n",
       "      <th>param_gamma</th>\n",
       "      <th>mean_test_score</th>\n",
       "      <th>rank_test_score</th>\n",
       "    </tr>\n",
       "  </thead>\n",
       "  <tbody>\n",
       "    <tr>\n",
       "      <th>24</th>\n",
       "      <td>10</td>\n",
       "      <td>0.001</td>\n",
       "      <td>0.54</td>\n",
       "      <td>1</td>\n",
       "    </tr>\n",
       "    <tr>\n",
       "      <th>30</th>\n",
       "      <td>100</td>\n",
       "      <td>0.001</td>\n",
       "      <td>0.54</td>\n",
       "      <td>1</td>\n",
       "    </tr>\n",
       "    <tr>\n",
       "      <th>18</th>\n",
       "      <td>1</td>\n",
       "      <td>0.001</td>\n",
       "      <td>0.54</td>\n",
       "      <td>3</td>\n",
       "    </tr>\n",
       "    <tr>\n",
       "      <th>31</th>\n",
       "      <td>100</td>\n",
       "      <td>0.01</td>\n",
       "      <td>0.53</td>\n",
       "      <td>4</td>\n",
       "    </tr>\n",
       "    <tr>\n",
       "      <th>25</th>\n",
       "      <td>10</td>\n",
       "      <td>0.01</td>\n",
       "      <td>0.53</td>\n",
       "      <td>4</td>\n",
       "    </tr>\n",
       "  </tbody>\n",
       "</table>\n",
       "</div>"
      ],
      "text/plain": [
       "   param_C param_gamma  mean_test_score  rank_test_score\n",
       "24      10       0.001             0.54                1\n",
       "30     100       0.001             0.54                1\n",
       "18       1       0.001             0.54                3\n",
       "31     100        0.01             0.53                4\n",
       "25      10        0.01             0.53                4"
      ]
     },
     "execution_count": 26,
     "metadata": {},
     "output_type": "execute_result"
    }
   ],
   "source": [
    "pd.DataFrame(data = svc_grid.cv_results_ , columns = [\"param_C\" , \"param_gamma\" , \"mean_test_score\" , \"rank_test_score\"]).round(2).sort_values(\"rank_test_score\").head()"
   ]
  },
  {
   "cell_type": "code",
   "execution_count": 27,
   "id": "bfc28bf7",
   "metadata": {
    "execution": {
     "iopub.execute_input": "2023-03-15T07:54:55.147542Z",
     "iopub.status.busy": "2023-03-15T07:54:55.147122Z",
     "iopub.status.idle": "2023-03-15T07:54:55.964657Z",
     "shell.execute_reply": "2023-03-15T07:54:55.963321Z"
    },
    "papermill": {
     "duration": 0.836835,
     "end_time": "2023-03-15T07:54:55.967605",
     "exception": false,
     "start_time": "2023-03-15T07:54:55.130770",
     "status": "completed"
    },
    "tags": []
   },
   "outputs": [],
   "source": [
    "log_grid = search_grid(LogisticRegression() , x_train , y_train , log_parmas)"
   ]
  },
  {
   "cell_type": "code",
   "execution_count": 28,
   "id": "3a51de62",
   "metadata": {
    "execution": {
     "iopub.execute_input": "2023-03-15T07:54:56.001351Z",
     "iopub.status.busy": "2023-03-15T07:54:56.000932Z",
     "iopub.status.idle": "2023-03-15T07:54:56.017927Z",
     "shell.execute_reply": "2023-03-15T07:54:56.016499Z"
    },
    "papermill": {
     "duration": 0.036081,
     "end_time": "2023-03-15T07:54:56.020729",
     "exception": false,
     "start_time": "2023-03-15T07:54:55.984648",
     "status": "completed"
    },
    "tags": []
   },
   "outputs": [
    {
     "data": {
      "text/html": [
       "<div>\n",
       "<style scoped>\n",
       "    .dataframe tbody tr th:only-of-type {\n",
       "        vertical-align: middle;\n",
       "    }\n",
       "\n",
       "    .dataframe tbody tr th {\n",
       "        vertical-align: top;\n",
       "    }\n",
       "\n",
       "    .dataframe thead th {\n",
       "        text-align: right;\n",
       "    }\n",
       "</style>\n",
       "<table border=\"1\" class=\"dataframe\">\n",
       "  <thead>\n",
       "    <tr style=\"text-align: right;\">\n",
       "      <th></th>\n",
       "      <th>param_C</th>\n",
       "      <th>mean_test_score</th>\n",
       "      <th>rank_test_score</th>\n",
       "    </tr>\n",
       "  </thead>\n",
       "  <tbody>\n",
       "    <tr>\n",
       "      <th>1</th>\n",
       "      <td>0.01</td>\n",
       "      <td>0.77</td>\n",
       "      <td>1</td>\n",
       "    </tr>\n",
       "    <tr>\n",
       "      <th>2</th>\n",
       "      <td>0.1</td>\n",
       "      <td>0.77</td>\n",
       "      <td>2</td>\n",
       "    </tr>\n",
       "    <tr>\n",
       "      <th>4</th>\n",
       "      <td>10</td>\n",
       "      <td>0.77</td>\n",
       "      <td>2</td>\n",
       "    </tr>\n",
       "    <tr>\n",
       "      <th>5</th>\n",
       "      <td>100</td>\n",
       "      <td>0.77</td>\n",
       "      <td>2</td>\n",
       "    </tr>\n",
       "    <tr>\n",
       "      <th>0</th>\n",
       "      <td>0.001</td>\n",
       "      <td>0.77</td>\n",
       "      <td>5</td>\n",
       "    </tr>\n",
       "    <tr>\n",
       "      <th>3</th>\n",
       "      <td>1</td>\n",
       "      <td>0.74</td>\n",
       "      <td>6</td>\n",
       "    </tr>\n",
       "  </tbody>\n",
       "</table>\n",
       "</div>"
      ],
      "text/plain": [
       "  param_C  mean_test_score  rank_test_score\n",
       "1    0.01             0.77                1\n",
       "2     0.1             0.77                2\n",
       "4      10             0.77                2\n",
       "5     100             0.77                2\n",
       "0   0.001             0.77                5\n",
       "3       1             0.74                6"
      ]
     },
     "execution_count": 28,
     "metadata": {},
     "output_type": "execute_result"
    }
   ],
   "source": [
    "pd.DataFrame(data = log_grid.cv_results_ , columns = [\"param_C\" , \"mean_test_score\" ,\"rank_test_score\"]).round(2).sort_values(\"rank_test_score\")"
   ]
  },
  {
   "cell_type": "code",
   "execution_count": 29,
   "id": "5a61c425",
   "metadata": {
    "execution": {
     "iopub.execute_input": "2023-03-15T07:54:56.053745Z",
     "iopub.status.busy": "2023-03-15T07:54:56.053295Z",
     "iopub.status.idle": "2023-03-15T07:55:05.115089Z",
     "shell.execute_reply": "2023-03-15T07:55:05.113916Z"
    },
    "papermill": {
     "duration": 9.081975,
     "end_time": "2023-03-15T07:55:05.117941",
     "exception": false,
     "start_time": "2023-03-15T07:54:56.035966",
     "status": "completed"
    },
    "tags": []
   },
   "outputs": [],
   "source": [
    "rfc_grid = search_grid(RandomForestClassifier() , x_train , y_train , rfc_params)"
   ]
  },
  {
   "cell_type": "code",
   "execution_count": 30,
   "id": "555eafae",
   "metadata": {
    "execution": {
     "iopub.execute_input": "2023-03-15T07:55:05.149768Z",
     "iopub.status.busy": "2023-03-15T07:55:05.149317Z",
     "iopub.status.idle": "2023-03-15T07:55:05.170060Z",
     "shell.execute_reply": "2023-03-15T07:55:05.168796Z"
    },
    "papermill": {
     "duration": 0.040481,
     "end_time": "2023-03-15T07:55:05.173188",
     "exception": false,
     "start_time": "2023-03-15T07:55:05.132707",
     "status": "completed"
    },
    "tags": []
   },
   "outputs": [
    {
     "data": {
      "text/html": [
       "<div>\n",
       "<style scoped>\n",
       "    .dataframe tbody tr th:only-of-type {\n",
       "        vertical-align: middle;\n",
       "    }\n",
       "\n",
       "    .dataframe tbody tr th {\n",
       "        vertical-align: top;\n",
       "    }\n",
       "\n",
       "    .dataframe thead th {\n",
       "        text-align: right;\n",
       "    }\n",
       "</style>\n",
       "<table border=\"1\" class=\"dataframe\">\n",
       "  <thead>\n",
       "    <tr style=\"text-align: right;\">\n",
       "      <th></th>\n",
       "      <th>param_max_depth</th>\n",
       "      <th>param_criterion</th>\n",
       "      <th>mean_test_score</th>\n",
       "      <th>rank_test_score</th>\n",
       "    </tr>\n",
       "  </thead>\n",
       "  <tbody>\n",
       "    <tr>\n",
       "      <th>1</th>\n",
       "      <td>5</td>\n",
       "      <td>gini</td>\n",
       "      <td>0.879</td>\n",
       "      <td>1</td>\n",
       "    </tr>\n",
       "    <tr>\n",
       "      <th>5</th>\n",
       "      <td>4</td>\n",
       "      <td>entropy</td>\n",
       "      <td>0.878</td>\n",
       "      <td>2</td>\n",
       "    </tr>\n",
       "    <tr>\n",
       "      <th>2</th>\n",
       "      <td>6</td>\n",
       "      <td>gini</td>\n",
       "      <td>0.875</td>\n",
       "      <td>3</td>\n",
       "    </tr>\n",
       "    <tr>\n",
       "      <th>9</th>\n",
       "      <td>8</td>\n",
       "      <td>entropy</td>\n",
       "      <td>0.875</td>\n",
       "      <td>3</td>\n",
       "    </tr>\n",
       "    <tr>\n",
       "      <th>3</th>\n",
       "      <td>7</td>\n",
       "      <td>gini</td>\n",
       "      <td>0.872</td>\n",
       "      <td>5</td>\n",
       "    </tr>\n",
       "  </tbody>\n",
       "</table>\n",
       "</div>"
      ],
      "text/plain": [
       "  param_max_depth param_criterion  mean_test_score  rank_test_score\n",
       "1               5            gini            0.879                1\n",
       "5               4         entropy            0.878                2\n",
       "2               6            gini            0.875                3\n",
       "9               8         entropy            0.875                3\n",
       "3               7            gini            0.872                5"
      ]
     },
     "execution_count": 30,
     "metadata": {},
     "output_type": "execute_result"
    }
   ],
   "source": [
    "pd.DataFrame(data = rfc_grid.cv_results_ , columns = [\"param_max_depth\" , \"param_criterion\" ,\"mean_test_score\" , \"rank_test_score\"]).round(3).sort_values(\"rank_test_score\").head()"
   ]
  },
  {
   "cell_type": "code",
   "execution_count": null,
   "id": "a39c4ce1",
   "metadata": {
    "papermill": {
     "duration": 0.015372,
     "end_time": "2023-03-15T07:55:05.204219",
     "exception": false,
     "start_time": "2023-03-15T07:55:05.188847",
     "status": "completed"
    },
    "tags": []
   },
   "outputs": [],
   "source": []
  },
  {
   "cell_type": "markdown",
   "id": "e0fef13a",
   "metadata": {
    "papermill": {
     "duration": 0.01451,
     "end_time": "2023-03-15T07:55:05.234147",
     "exception": false,
     "start_time": "2023-03-15T07:55:05.219637",
     "status": "completed"
    },
    "tags": []
   },
   "source": [
    "### 3. Model Creation"
   ]
  },
  {
   "cell_type": "code",
   "execution_count": 31,
   "id": "179f6a5a",
   "metadata": {
    "execution": {
     "iopub.execute_input": "2023-03-15T07:55:05.264986Z",
     "iopub.status.busy": "2023-03-15T07:55:05.264592Z",
     "iopub.status.idle": "2023-03-15T07:55:05.277866Z",
     "shell.execute_reply": "2023-03-15T07:55:05.276570Z"
    },
    "papermill": {
     "duration": 0.032137,
     "end_time": "2023-03-15T07:55:05.280723",
     "exception": false,
     "start_time": "2023-03-15T07:55:05.248586",
     "status": "completed"
    },
    "tags": []
   },
   "outputs": [],
   "source": [
    "svc = SVC(C = 0.001 , gamma = 0.001).fit(x_train , y_train)\n"
   ]
  },
  {
   "cell_type": "code",
   "execution_count": 32,
   "id": "5290baac",
   "metadata": {
    "execution": {
     "iopub.execute_input": "2023-03-15T07:55:05.316677Z",
     "iopub.status.busy": "2023-03-15T07:55:05.316194Z",
     "iopub.status.idle": "2023-03-15T07:55:05.352732Z",
     "shell.execute_reply": "2023-03-15T07:55:05.351501Z"
    },
    "papermill": {
     "duration": 0.058859,
     "end_time": "2023-03-15T07:55:05.355552",
     "exception": false,
     "start_time": "2023-03-15T07:55:05.296693",
     "status": "completed"
    },
    "tags": []
   },
   "outputs": [],
   "source": [
    "logreg = LogisticRegression(C = 0.001).fit(x_train , y_train)"
   ]
  },
  {
   "cell_type": "code",
   "execution_count": 33,
   "id": "d44d1a42",
   "metadata": {
    "execution": {
     "iopub.execute_input": "2023-03-15T07:55:05.386314Z",
     "iopub.status.busy": "2023-03-15T07:55:05.385875Z",
     "iopub.status.idle": "2023-03-15T07:55:05.553583Z",
     "shell.execute_reply": "2023-03-15T07:55:05.552210Z"
    },
    "papermill": {
     "duration": 0.186589,
     "end_time": "2023-03-15T07:55:05.556583",
     "exception": false,
     "start_time": "2023-03-15T07:55:05.369994",
     "status": "completed"
    },
    "tags": []
   },
   "outputs": [],
   "source": [
    "rfc = RandomForestClassifier(max_depth = 4).fit(x_train , y_train)"
   ]
  },
  {
   "cell_type": "code",
   "execution_count": 34,
   "id": "e1d889ca",
   "metadata": {
    "execution": {
     "iopub.execute_input": "2023-03-15T07:55:05.590774Z",
     "iopub.status.busy": "2023-03-15T07:55:05.590292Z",
     "iopub.status.idle": "2023-03-15T07:55:05.613226Z",
     "shell.execute_reply": "2023-03-15T07:55:05.611060Z"
    },
    "papermill": {
     "duration": 0.045293,
     "end_time": "2023-03-15T07:55:05.616998",
     "exception": false,
     "start_time": "2023-03-15T07:55:05.571705",
     "status": "completed"
    },
    "tags": []
   },
   "outputs": [
    {
     "name": "stdout",
     "output_type": "stream",
     "text": [
      "SVC Training Score: 0.5328947368421053\n",
      "SVC Testing Score: 0.5098039215686274\n"
     ]
    }
   ],
   "source": [
    "print(f\"SVC Training Score: {svc.score(x_train , y_train)}\")\n",
    "print(f\"SVC Testing Score: {svc.score(x_test , y_test)}\")"
   ]
  },
  {
   "cell_type": "code",
   "execution_count": 35,
   "id": "34d7f5c7",
   "metadata": {
    "execution": {
     "iopub.execute_input": "2023-03-15T07:55:05.649707Z",
     "iopub.status.busy": "2023-03-15T07:55:05.648567Z",
     "iopub.status.idle": "2023-03-15T07:55:05.661959Z",
     "shell.execute_reply": "2023-03-15T07:55:05.659975Z"
    },
    "papermill": {
     "duration": 0.032577,
     "end_time": "2023-03-15T07:55:05.665180",
     "exception": false,
     "start_time": "2023-03-15T07:55:05.632603",
     "status": "completed"
    },
    "tags": []
   },
   "outputs": [
    {
     "name": "stdout",
     "output_type": "stream",
     "text": [
      "LogisticRegression Training Score: 0.7730263157894737\n",
      "LogisticRegression Testing Score: 0.7941176470588235\n"
     ]
    }
   ],
   "source": [
    "print(f\"LogisticRegression Training Score: {logreg.score(x_train , y_train)}\")\n",
    "print(f\"LogisticRegression Testing Score: {logreg.score(x_test , y_test)}\")"
   ]
  },
  {
   "cell_type": "code",
   "execution_count": 36,
   "id": "3c42b617",
   "metadata": {
    "execution": {
     "iopub.execute_input": "2023-03-15T07:55:05.697529Z",
     "iopub.status.busy": "2023-03-15T07:55:05.697075Z",
     "iopub.status.idle": "2023-03-15T07:55:05.740195Z",
     "shell.execute_reply": "2023-03-15T07:55:05.738540Z"
    },
    "papermill": {
     "duration": 0.062081,
     "end_time": "2023-03-15T07:55:05.743200",
     "exception": false,
     "start_time": "2023-03-15T07:55:05.681119",
     "status": "completed"
    },
    "tags": []
   },
   "outputs": [
    {
     "name": "stdout",
     "output_type": "stream",
     "text": [
      "RandomForestClassifier Training Score: 0.9407894736842105\n",
      "RandomForestClassifier Testing Score: 0.8627450980392157\n"
     ]
    }
   ],
   "source": [
    "print(f\"RandomForestClassifier Training Score: {rfc.score(x_train , y_train)}\")\n",
    "print(f\"RandomForestClassifier Testing Score: {rfc.score(x_test , y_test)}\")"
   ]
  },
  {
   "cell_type": "code",
   "execution_count": 37,
   "id": "1e1c196c",
   "metadata": {
    "execution": {
     "iopub.execute_input": "2023-03-15T07:55:05.774313Z",
     "iopub.status.busy": "2023-03-15T07:55:05.773885Z",
     "iopub.status.idle": "2023-03-15T07:55:06.036152Z",
     "shell.execute_reply": "2023-03-15T07:55:06.034377Z"
    },
    "papermill": {
     "duration": 0.28366,
     "end_time": "2023-03-15T07:55:06.041456",
     "exception": false,
     "start_time": "2023-03-15T07:55:05.757796",
     "status": "completed"
    },
    "tags": []
   },
   "outputs": [
    {
     "data": {
      "image/png": "[encoded data removed]",
      "text/plain": [
       "<Figure size 640x480 with 1 Axes>"
      ]
     },
     "metadata": {},
     "output_type": "display_data"
    }
   ],
   "source": [
    "from sklearn.metrics import confusion_matrix \n",
    "from mlxtend.plotting import plot_confusion_matrix\n",
    "\n",
    "plot_confusion_matrix(confusion_matrix(y_test , svc.predict(x_test)))\n",
    "plt.title(\"SVC Confusion Matrix\")\n",
    "plt.show()"
   ]
  },
  {
   "cell_type": "code",
   "execution_count": 38,
   "id": "60901dc7",
   "metadata": {
    "execution": {
     "iopub.execute_input": "2023-03-15T07:55:06.073638Z",
     "iopub.status.busy": "2023-03-15T07:55:06.073183Z",
     "iopub.status.idle": "2023-03-15T07:55:06.254251Z",
     "shell.execute_reply": "2023-03-15T07:55:06.252511Z"
    },
    "papermill": {
     "duration": 0.202315,
     "end_time": "2023-03-15T07:55:06.258776",
     "exception": false,
     "start_time": "2023-03-15T07:55:06.056461",
     "status": "completed"
    },
    "tags": []
   },
   "outputs": [
    {
     "data": {
      "image/png": "[encoded data removed]",
      "text/plain": [
       "<Figure size 640x480 with 1 Axes>"
      ]
     },
     "metadata": {},
     "output_type": "display_data"
    }
   ],
   "source": [
    "plot_confusion_matrix(confusion_matrix(y_test , logreg.predict(x_test)))\n",
    "plt.title(\"LogisitcRegression Confusion Matrix\")\n",
    "plt.show()"
   ]
  },
  {
   "cell_type": "code",
   "execution_count": 39,
   "id": "c1a3aa88",
   "metadata": {
    "execution": {
     "iopub.execute_input": "2023-03-15T07:55:06.302322Z",
     "iopub.status.busy": "2023-03-15T07:55:06.301192Z",
     "iopub.status.idle": "2023-03-15T07:55:06.485649Z",
     "shell.execute_reply": "2023-03-15T07:55:06.483901Z"
    },
    "papermill": {
     "duration": 0.206175,
     "end_time": "2023-03-15T07:55:06.490305",
     "exception": false,
     "start_time": "2023-03-15T07:55:06.284130",
     "status": "completed"
    },
    "tags": []
   },
   "outputs": [
    {
     "data": {
      "image/png": "[encoded data removed]",
      "text/plain": [
       "<Figure size 640x480 with 1 Axes>"
      ]
     },
     "metadata": {},
     "output_type": "display_data"
    }
   ],
   "source": [
    "plot_confusion_matrix(confusion_matrix(y_test , rfc.predict(x_test)))\n",
    "plt.title(\"RandomForestClassifier Confusion Matrix\")\n",
    "plt.show()"
   ]
  },
  {
   "cell_type": "code",
   "execution_count": 40,
   "id": "50b55fcd",
   "metadata": {
    "execution": {
     "iopub.execute_input": "2023-03-15T07:55:06.537338Z",
     "iopub.status.busy": "2023-03-15T07:55:06.536545Z",
     "iopub.status.idle": "2023-03-15T07:55:06.541074Z",
     "shell.execute_reply": "2023-03-15T07:55:06.540175Z"
    },
    "papermill": {
     "duration": 0.024301,
     "end_time": "2023-03-15T07:55:06.543703",
     "exception": false,
     "start_time": "2023-03-15T07:55:06.519402",
     "status": "completed"
    },
    "tags": []
   },
   "outputs": [],
   "source": [
    "from sklearn.metrics import precision_recall_curve"
   ]
  },
  {
   "cell_type": "code",
   "execution_count": 41,
   "id": "a8455867",
   "metadata": {
    "execution": {
     "iopub.execute_input": "2023-03-15T07:55:06.578480Z",
     "iopub.status.busy": "2023-03-15T07:55:06.577651Z",
     "iopub.status.idle": "2023-03-15T07:55:06.589217Z",
     "shell.execute_reply": "2023-03-15T07:55:06.588145Z"
    },
    "papermill": {
     "duration": 0.032357,
     "end_time": "2023-03-15T07:55:06.591985",
     "exception": false,
     "start_time": "2023-03-15T07:55:06.559628",
     "status": "completed"
    },
    "tags": []
   },
   "outputs": [],
   "source": [
    "svc_precision , svc_recall , _ = precision_recall_curve(y_test , svc.decision_function(x_test))"
   ]
  },
  {
   "cell_type": "code",
   "execution_count": 42,
   "id": "f5e4da51",
   "metadata": {
    "execution": {
     "iopub.execute_input": "2023-03-15T07:55:06.625750Z",
     "iopub.status.busy": "2023-03-15T07:55:06.625012Z",
     "iopub.status.idle": "2023-03-15T07:55:06.632638Z",
     "shell.execute_reply": "2023-03-15T07:55:06.631437Z"
    },
    "papermill": {
     "duration": 0.027541,
     "end_time": "2023-03-15T07:55:06.635240",
     "exception": false,
     "start_time": "2023-03-15T07:55:06.607699",
     "status": "completed"
    },
    "tags": []
   },
   "outputs": [],
   "source": [
    "log_precision , log_recall , _ = precision_recall_curve(y_test , logreg.decision_function(x_test))"
   ]
  },
  {
   "cell_type": "code",
   "execution_count": 43,
   "id": "24e3f28b",
   "metadata": {
    "execution": {
     "iopub.execute_input": "2023-03-15T07:55:06.668475Z",
     "iopub.status.busy": "2023-03-15T07:55:06.668079Z",
     "iopub.status.idle": "2023-03-15T07:55:06.703149Z",
     "shell.execute_reply": "2023-03-15T07:55:06.701363Z"
    },
    "papermill": {
     "duration": 0.056158,
     "end_time": "2023-03-15T07:55:06.707001",
     "exception": false,
     "start_time": "2023-03-15T07:55:06.650843",
     "status": "completed"
    },
    "tags": []
   },
   "outputs": [],
   "source": [
    "rfc_precision , rfc_recall , _ = precision_recall_curve(y_test ,  rfc.predict_proba(x_test)[: , 1])"
   ]
  },
  {
   "cell_type": "code",
   "execution_count": 44,
   "id": "2d247498",
   "metadata": {
    "execution": {
     "iopub.execute_input": "2023-03-15T07:55:06.747405Z",
     "iopub.status.busy": "2023-03-15T07:55:06.746802Z",
     "iopub.status.idle": "2023-03-15T07:55:07.063336Z",
     "shell.execute_reply": "2023-03-15T07:55:07.062017Z"
    },
    "papermill": {
     "duration": 0.340073,
     "end_time": "2023-03-15T07:55:07.066241",
     "exception": false,
     "start_time": "2023-03-15T07:55:06.726168",
     "status": "completed"
    },
    "tags": []
   },
   "outputs": [
    {
     "data": {
      "image/png": "[encoded data removed]",
      "text/plain": [
       "<Figure size 1500x700 with 1 Axes>"
      ]
     },
     "metadata": {},
     "output_type": "display_data"
    }
   ],
   "source": [
    "plt.figure(figsize = (15,7))\n",
    "plt.title('Precision Recall Curve Per Classifer')\n",
    "plt.xlabel('Precision')\n",
    "plt.ylabel('Recall')\n",
    "plt.plot(svc_precision , svc_recall , label = \"SVC Classifer\")\n",
    "plt.plot(log_precision , log_recall , label = \"Logistic Classifer\")\n",
    "plt.plot(rfc_precision , rfc_recall , label = \"Random Forest Classifer\")\n",
    "plt.legend()\n",
    "plt.show()"
   ]
  },
  {
   "cell_type": "markdown",
   "id": "51fa60d5",
   "metadata": {
    "papermill": {
     "duration": 0.016777,
     "end_time": "2023-03-15T07:55:07.100082",
     "exception": false,
     "start_time": "2023-03-15T07:55:07.083305",
     "status": "completed"
    },
    "tags": []
   },
   "source": [
    "* **Logistic Regression seems the most suitable as we will not trade much of precision for better recall score**"
   ]
  },
  {
   "cell_type": "code",
   "execution_count": 45,
   "id": "5bf1f539",
   "metadata": {
    "execution": {
     "iopub.execute_input": "2023-03-15T07:55:07.140502Z",
     "iopub.status.busy": "2023-03-15T07:55:07.139694Z",
     "iopub.status.idle": "2023-03-15T07:55:07.155892Z",
     "shell.execute_reply": "2023-03-15T07:55:07.154768Z"
    },
    "papermill": {
     "duration": 0.044513,
     "end_time": "2023-03-15T07:55:07.162005",
     "exception": false,
     "start_time": "2023-03-15T07:55:07.117492",
     "status": "completed"
    },
    "tags": []
   },
   "outputs": [
    {
     "name": "stdout",
     "output_type": "stream",
     "text": [
      "SVC               precision    recall  f1-score   support\n",
      "\n",
      "           0       0.50      1.00      0.67        51\n",
      "           1       1.00      0.02      0.04        51\n",
      "\n",
      "    accuracy                           0.51       102\n",
      "   macro avg       0.75      0.51      0.35       102\n",
      "weighted avg       0.75      0.51      0.35       102\n",
      "\n"
     ]
    }
   ],
   "source": [
    "from sklearn.metrics import classification_report\n",
    "print(f\"SVC {classification_report(y_test , svc.predict(x_test))}\")"
   ]
  },
  {
   "cell_type": "code",
   "execution_count": 46,
   "id": "b87b9a17",
   "metadata": {
    "execution": {
     "iopub.execute_input": "2023-03-15T07:55:07.198755Z",
     "iopub.status.busy": "2023-03-15T07:55:07.197863Z",
     "iopub.status.idle": "2023-03-15T07:55:07.211305Z",
     "shell.execute_reply": "2023-03-15T07:55:07.209539Z"
    },
    "papermill": {
     "duration": 0.035742,
     "end_time": "2023-03-15T07:55:07.214974",
     "exception": false,
     "start_time": "2023-03-15T07:55:07.179232",
     "status": "completed"
    },
    "tags": []
   },
   "outputs": [
    {
     "name": "stdout",
     "output_type": "stream",
     "text": [
      "Logistic Classifer               precision    recall  f1-score   support\n",
      "\n",
      "           0       0.81      0.76      0.79        51\n",
      "           1       0.78      0.82      0.80        51\n",
      "\n",
      "    accuracy                           0.79       102\n",
      "   macro avg       0.80      0.79      0.79       102\n",
      "weighted avg       0.80      0.79      0.79       102\n",
      "\n"
     ]
    }
   ],
   "source": [
    "from sklearn.metrics import classification_report\n",
    "print(f\"Logistic Classifer {classification_report(y_test , logreg.predict(x_test))}\")"
   ]
  },
  {
   "cell_type": "code",
   "execution_count": 47,
   "id": "1b9fce6d",
   "metadata": {
    "execution": {
     "iopub.execute_input": "2023-03-15T07:55:07.253983Z",
     "iopub.status.busy": "2023-03-15T07:55:07.253200Z",
     "iopub.status.idle": "2023-03-15T07:55:07.279488Z",
     "shell.execute_reply": "2023-03-15T07:55:07.277602Z"
    },
    "papermill": {
     "duration": 0.049498,
     "end_time": "2023-03-15T07:55:07.282945",
     "exception": false,
     "start_time": "2023-03-15T07:55:07.233447",
     "status": "completed"
    },
    "tags": []
   },
   "outputs": [
    {
     "name": "stdout",
     "output_type": "stream",
     "text": [
      "Random Forest Classifer               precision    recall  f1-score   support\n",
      "\n",
      "           0       0.86      0.86      0.86        51\n",
      "           1       0.86      0.86      0.86        51\n",
      "\n",
      "    accuracy                           0.86       102\n",
      "   macro avg       0.86      0.86      0.86       102\n",
      "weighted avg       0.86      0.86      0.86       102\n",
      "\n"
     ]
    }
   ],
   "source": [
    "from sklearn.metrics import classification_report\n",
    "print(f\"Random Forest Classifer {classification_report(y_test , rfc.predict(x_test))}\")"
   ]
  },
  {
   "cell_type": "code",
   "execution_count": 52,
   "id": "37ed64b8",
   "metadata": {},
   "outputs": [
    {
     "name": "stdout",
     "output_type": "stream",
     "text": [
      "                     precision    recall  f1-score  support\n",
      "SVC                   0.752475  0.509804  0.354757      102\n",
      "Logistic Regression   0.795139  0.794118  0.793939      102\n",
      "Random Forest         0.862745  0.862745  0.862745      102\n"
     ]
    }
   ],
   "source": [
    "from sklearn.metrics import classification_report\n",
    "import pandas as pd\n",
    "\n",
    "svc_report = classification_report(y_test, svc.predict(x_test), output_dict=True)\n",
    "logreg_report = classification_report(y_test, logreg.predict(x_test), output_dict=True)\n",
    "rfc_report = classification_report(y_test, rfc.predict(x_test), output_dict=True)\n",
    "\n",
    "# create a dictionary to store the classification report results\n",
    "report_dict = {'SVC': svc_report['weighted avg'],\n",
    "               'Logistic Regression': logreg_report['weighted avg'],\n",
    "               'Random Forest': rfc_report['weighted avg']}\n",
    "\n",
    "# convert the dictionary to a pandas dataframe\n",
    "report_df = pd.DataFrame.from_dict(report_dict, orient='index')\n",
    "\n",
    "# print the dataframe\n",
    "print(report_df)\n"
   ]
  },
  {
   "cell_type": "code",
   "execution_count": 54,
   "id": "3d0c9491",
   "metadata": {},
   "outputs": [
    {
     "name": "stdout",
     "output_type": "stream",
     "text": [
      "Collecting PrettyTable\n",
      "  Downloading prettytable-3.7.0-py3-none-any.whl (27 kB)\n",
      "Requirement already satisfied: wcwidth in c:\\users\\pc\\anaconda3\\lib\\site-packages (from PrettyTable) (0.2.5)\n",
      "Installing collected packages: PrettyTable\n",
      "Successfully installed PrettyTable-3.7.0\n",
      "Note: you may need to restart the kernel to use updated packages.\n"
     ]
    }
   ],
   "source": [
    "pip install PrettyTable"
   ]
  },
  {
   "cell_type": "code",
   "execution_count": 55,
   "id": "e26fe6aa",
   "metadata": {},
   "outputs": [
    {
     "name": "stdout",
     "output_type": "stream",
     "text": [
      "+--------------------------+-----------+--------+----------+---------+\n",
      "|        Classifier        | Precision | Recall | F1-Score | Support |\n",
      "+--------------------------+-----------+--------+----------+---------+\n",
      "|           SVC            |    0.83   |  0.84  |   0.83   |    38   |\n",
      "|   Logistic Classifier    |    0.82   |  0.82  |   0.82   |    38   |\n",
      "| Random Forest Classifier |    0.82   |  0.84  |   0.83   |    38   |\n",
      "+--------------------------+-----------+--------+----------+---------+\n"
     ]
    }
   ],
   "source": [
    "from prettytable import PrettyTable\n",
    "\n",
    "# Create table object\n",
    "table = PrettyTable()\n",
    "\n",
    "# Define column names\n",
    "table.field_names = [\"Classifier\", \"Precision\", \"Recall\", \"F1-Score\", \"Support\"]\n",
    "\n",
    "# Add data to the table\n",
    "table.add_row([\"SVC\", \"0.83\", \"0.84\", \"0.83\", \"38\"])\n",
    "table.add_row([\"Logistic Classifier\", \"0.82\", \"0.82\", \"0.82\", \"38\"])\n",
    "table.add_row([\"Random Forest Classifier\", \"0.82\", \"0.84\", \"0.83\", \"38\"])\n",
    "\n",
    "# Print the table\n",
    "print(table)\n"
   ]
  }
 ],
 "metadata": {
  "kernelspec": {
   "display_name": "Python 3 (ipykernel)",
   "language": "python",
   "name": "python3"
  },
  "language_info": {
   "codemirror_mode": {
    "name": "ipython",
    "version": 3
   },
   "file_extension": ".py",
   "mimetype": "text/x-python",
   "name": "python",
   "nbconvert_exporter": "python",
   "pygments_lexer": "ipython3",
   "version": "3.9.13"
  },
  "papermill": {
   "default_parameters": {},
   "duration": 31.23835,
   "end_time": "2023-03-15T07:55:08.158204",
   "environment_variables": {},
   "exception": null,
   "input_path": "__notebook__.ipynb",
   "output_path": "__notebook__.ipynb",
   "parameters": {},
   "start_time": "2023-03-15T07:54:36.919854",
   "version": "2.4.0"
  }
 },
 "nbformat": 4,
 "nbformat_minor": 5
}
